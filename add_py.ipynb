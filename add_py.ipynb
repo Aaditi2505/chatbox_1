{
  "nbformat": 4,
  "nbformat_minor": 0,
  "metadata": {
    "colab": {
      "provenance": []
    },
    "kernelspec": {
      "name": "python3",
      "display_name": "Python 3"
    },
    "language_info": {
      "name": "python"
    }
  },
  "cells": [
    {
      "cell_type": "code",
      "execution_count": null,
      "metadata": {
        "colab": {
          "base_uri": "https://localhost:8080/"
        },
        "id": "zNiQhxzJ-0TN",
        "outputId": "9abd7e2b-3795-4f3a-8cac-30e7d90d3284"
      },
      "outputs": [
        {
          "output_type": "stream",
          "name": "stderr",
          "text": [
            "2025-06-16 13:53:45.654 Thread 'MainThread': missing ScriptRunContext! This warning can be ignored when running in bare mode.\n",
            "2025-06-16 13:53:45.656 Thread 'MainThread': missing ScriptRunContext! This warning can be ignored when running in bare mode.\n",
            "2025-06-16 13:53:45.657 Thread 'MainThread': missing ScriptRunContext! This warning can be ignored when running in bare mode.\n",
            "2025-06-16 13:53:45.658 Thread 'MainThread': missing ScriptRunContext! This warning can be ignored when running in bare mode.\n",
            "2025-06-16 13:53:45.664 Thread 'MainThread': missing ScriptRunContext! This warning can be ignored when running in bare mode.\n",
            "2025-06-16 13:53:45.666 Thread 'MainThread': missing ScriptRunContext! This warning can be ignored when running in bare mode.\n",
            "2025-06-16 13:53:45.668 Thread 'MainThread': missing ScriptRunContext! This warning can be ignored when running in bare mode.\n",
            "2025-06-16 13:53:45.670 Thread 'MainThread': missing ScriptRunContext! This warning can be ignored when running in bare mode.\n",
            "2025-06-16 13:53:45.672 Thread 'MainThread': missing ScriptRunContext! This warning can be ignored when running in bare mode.\n",
            "2025-06-16 13:53:45.675 Thread 'MainThread': missing ScriptRunContext! This warning can be ignored when running in bare mode.\n",
            "2025-06-16 13:53:45.677 Thread 'MainThread': missing ScriptRunContext! This warning can be ignored when running in bare mode.\n",
            "2025-06-16 13:53:45.680 Thread 'MainThread': missing ScriptRunContext! This warning can be ignored when running in bare mode.\n",
            "2025-06-16 13:53:45.681 Thread 'MainThread': missing ScriptRunContext! This warning can be ignored when running in bare mode.\n",
            "2025-06-16 13:53:45.683 Thread 'MainThread': missing ScriptRunContext! This warning can be ignored when running in bare mode.\n",
            "2025-06-16 13:53:45.686 Thread 'MainThread': missing ScriptRunContext! This warning can be ignored when running in bare mode.\n",
            "2025-06-16 13:53:45.688 Thread 'MainThread': missing ScriptRunContext! This warning can be ignored when running in bare mode.\n"
          ]
        }
      ],
      "source": [
        "import streamlit as st\n",
        "import pandas as pd\n",
        "from sklearn.linear_model import LogisticRegression\n",
        "from sklearn.preprocessing import LabelEncoder\n",
        "from sklearn.feature_extraction.text import TfidfVectorizer\n",
        "\n",
        "# This must be the first Streamlit command\n",
        "st.set_page_config(page_title=\"Kamaraj College FAQ Chatbot\", layout=\"centered\")\n",
        "\n",
        "# Load model and data (caches for speed)\n",
        "@st.cache_resource\n",
        "def load_model_and_data():\n",
        "    # Read the CSV from the local directory\n",
        "    ques = pd.read_csv(\"kamaraj_college_faq.csv\")\n",
        "    ques.dropna(inplace=True)\n",
        "\n",
        "    # Encode answers\n",
        "    le = LabelEncoder()\n",
        "    ques[\"Answer_Label\"] = le.fit_transform(ques[\"Answer\"])\n",
        "\n",
        "    # Vectorize the questions\n",
        "    vectorizer = TfidfVectorizer()\n",
        "    X = vectorizer.fit_transform(ques[\"Question\"])\n",
        "    y = ques[\"Answer_Label\"]\n",
        "\n",
        "    # Train the model\n",
        "    model = LogisticRegression()\n",
        "    model.fit(X, y)\n",
        "\n",
        "    return model, vectorizer, le\n",
        "\n",
        "# Load everything once\n",
        "model, vectorizer, label_encoder = load_model_and_data()\n",
        "\n",
        "# Streamlit UI\n",
        "st.title(\"🎓 Kamaraj College FAQ Chatbot\")\n",
        "st.write(\"Ask any question related to **Kamaraj College of Engineering and Technology**:\")\n",
        "\n",
        "# User input\n",
        "user_question = st.text_input(\"💬 Enter your question:\")\n",
        "\n",
        "# Handle input\n",
        "if st.button(\"🔍 Get Answer\"):\n",
        "    if user_question.strip() == \"\":\n",
        "        st.warning(\"⚠️ Please enter a question.\")\n",
        "    else:\n",
        "        vector = vectorizer.transform([user_question])\n",
        "        prediction = model.predict(vector)[0]\n",
        "        answer = label_encoder.inverse_transform([prediction])[0]\n",
        "        st.success(f\"🟢 Answer: {answer}\")\n"
      ]
    }
  ]
}